{
  "nbformat": 4,
  "nbformat_minor": 0,
  "metadata": {
    "colab": {
      "name": "ShopifyData.ipynb",
      "provenance": []
    },
    "kernelspec": {
      "name": "python3",
      "display_name": "Python 3"
    },
    "language_info": {
      "name": "python"
    }
  },
  "cells": [
    {
      "cell_type": "code",
      "metadata": {
        "id": "0JdOoetMIJmA"
      },
      "source": [
        "from statistics import mean\n",
        "from statistics import stdev \n",
        "import pandas as pd\n",
        "import matplotlib.pyplot as plt\n",
        "googleSheetID= '16i38oonuX1y1g7C_UAmiK9GkY7cS-64DfiDMNiR41LM'\n",
        "googleSheetName='Sheet1'\n",
        "URL = 'https://docs.google.com/spreadsheets/d/{0}/export?format=csv&sheet={1}'.format(googleSheetID, googleSheetName)\n",
        "df=pd.read_csv(URL)\n",
        "\n",
        "#part a. figuring out the reason for the error\n",
        "#first calculate the average sneaker amount by loading in the data, and creating arrays for:\n",
        "###### orderamount, totalitems, average_sneaker_amount, \n",
        "##### and variables for:\n",
        "##### avgorder, std\n",
        "def AvgSneakerAmount(df):\n",
        "  googleSheetID= '16i38oonuX1y1g7C_UAmiK9GkY7cS-64DfiDMNiR41LM'\n",
        "  googleSheetName='Sheet1'\n",
        "  URL = 'https://docs.google.com/spreadsheets/d/{0}/export?format=csv&sheet={1}'.format(googleSheetID, googleSheetName)\n",
        "  #df=pd.read_csv(URL)\n",
        "  df=df=pd.read_csv(URL)\n",
        "  #extract orderamound array\n",
        "  orderamount = df['order_amount']\n",
        "  #extract totalitems array\n",
        "  totalitems = df['total_items']\n",
        "  #create new array of the average sneaker amount\n",
        "  average_sneaker_amount=orderamount/totalitems\n",
        "  #the average of the array of the average sneaker amount\n",
        "  avgorder=mean(average_sneaker_amount)\n",
        "  #the average of the array of average total items\n",
        "  average_totalitems=mean(totalitems)\n",
        "\n",
        "  #the standard deviation of the average sneaker amount\n",
        "  std=stdev(average_sneaker_amount)\n",
        "  \n",
        "  return orderamount,totalitems, average_totalitems, avgorder, average_sneaker_amount,std\n",
        "\n",
        "###function to find the average sneaker amount, average order amount and average total items minus the outliers(ie over 500$ per sneaker)\n",
        "def Outliers(df):\n",
        "  results=AvgSneakerAmount(df)\n",
        "  average_sneaker_amount=results[4]\n",
        "  orderamount=results[0]\n",
        "  totalitems=results[1]\n",
        "  avg=mean(average_sneaker_amount)\n",
        "  std=stdev(average_sneaker_amount)\n",
        "  ASA=[]\n",
        "  OA=[]\n",
        "  TI=[]\n",
        " \n",
        "  for i in range(len(average_sneaker_amount)):\n",
        "    if average_sneaker_amount[i]<500:\n",
        "      ASA.append(average_sneaker_amount[i])\n",
        "      OA.append(orderamount[i])\n",
        "      TI.append(totalitems[i])\n",
        "    else:\n",
        "      i+1\n",
        "\n",
        "  return mean(ASA), mean(OA), mean(TI)\n",
        "def plots(df):\n",
        "  results=AvgSneakerAmount(df)\n",
        "  plt.xlabel('Order Number')\n",
        "  plt.ylabel('Sneaker Amount')\n",
        "  plt.title('Average Sneaker Amount')\n",
        "  plt.plot(results[4],label='Average Sneaker Amount')\n",
        "  plt.show()\n",
        "  "
      ],
      "execution_count": 7,
      "outputs": []
    },
    {
      "cell_type": "code",
      "metadata": {
        "id": "uQJC8qpiV0QT"
      },
      "source": [
        "def Display(df):\n",
        "  googleSheetID= '16i38oonuX1y1g7C_UAmiK9GkY7cS-64DfiDMNiR41LM'\n",
        "  googleSheetName='Sheet1'\n",
        "  URL = 'https://docs.google.com/spreadsheets/d/{0}/export?format=csv&sheet={1}'.format(googleSheetID, googleSheetName)\n",
        "  #df=pd.read_csv(URL)\n",
        "  df=df=pd.read_csv(URL)\n",
        "  AvgSneakerAmount(df)\n",
        "  plots(df)\n",
        "  result=Outliers(df)\n",
        "  return \"average sneaker amount: {0}, average order amount:{1}, average total items:{2}\".format(result[0],result[1],result[2])\n",
        "  "
      ],
      "execution_count": 16,
      "outputs": []
    },
    {
      "cell_type": "code",
      "metadata": {
        "colab": {
          "base_uri": "https://localhost:8080/",
          "height": 313
        },
        "id": "eVTT5ecKWpms",
        "outputId": "245c74a6-33c5-48ce-eeaf-c26257ee54e8"
      },
      "source": [
        "### results displayed\n",
        "googleSheetID= '16i38oonuX1y1g7C_UAmiK9GkY7cS-64DfiDMNiR41LM'\n",
        "googleSheetName='Sheet1'\n",
        "URL = 'https://docs.google.com/spreadsheets/d/{0}/export?format=csv&sheet={1}'.format(googleSheetID, googleSheetName)\n",
        "df=pd.read_csv(URL)\n",
        "Display(df)"
      ],
      "execution_count": 17,
      "outputs": [
        {
          "output_type": "display_data",
          "data": {
            "image/png": "[encoded data removed]",
            "text/plain": [
              "<Figure size 432x288 with 1 Axes>"
            ]
          },
          "metadata": {
            "tags": [],
            "needs_background": "light"
          }
        },
        {
          "output_type": "execute_result",
          "data": {
            "application/vnd.google.colaboratory.intrinsic+json": {
              "type": "string"
            },
            "text/plain": [
              "' average sneaker amount: 152.47557529269278, average order amount:2717, average total items:8'"
            ]
          },
          "metadata": {
            "tags": []
          },
          "execution_count": 17
        }
      ]
    }
  ]
}